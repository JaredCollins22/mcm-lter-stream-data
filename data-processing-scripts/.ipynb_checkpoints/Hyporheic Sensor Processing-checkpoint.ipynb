{
 "cells": [
  {
   "cell_type": "markdown",
   "id": "24d51201-8761-4a5e-a545-06ca614238f2",
   "metadata": {},
   "source": [
    "# MCM LTER Hyporheic Sensor Data Processing"
   ]
  },
  {
   "cell_type": "markdown",
   "id": "1e27cc3a-3e2f-4a0d-80bc-272fa979c99c",
   "metadata": {},
   "source": [
    "This script was created by Jared Collins in the summer of 2025 to be used by the MCM LTER stream team as an easy way to organize data from the hyporheic sensors from the stream gages, most of which were properly installed in the 2425 season.\n",
    "\n",
    "The hyporheic data is a little bit more difficult to work with than data processed in Aquarius- unlike data from Aquarius, it is not automatically converted into a CSV and has some extra steps for converting into usable data. **To use this script, please import the .dat files into excel and save as a CSV in your downloads folder.**\n",
    "\n",
    "In order for this script to work properly, you will need to input necessary information about the files that you are hoping to publish:\n",
    "- Stream ID: Acceptable formats are B3, B5, C1, F1, F2, F3, F5, F6, F7, F8, F9, F10, H1, M1, M2, Onyx_LWRT, Onyx_Vanda\n",
    "- Season: Separate seasons into A and B data depending on what portion of the data you are working on; will only impact how datafile is saved\n",
    "- Date: The first day of the data file, written in \"YYYYMMDD\" format\n",
    "\n",
    "Edit the following cell with the information above:"
   ]
  },
  {
   "cell_type": "code",
   "execution_count": 1,
   "id": "3d77e82e-bd21-419f-a6ff-aecc018c66da",
   "metadata": {},
   "outputs": [],
   "source": [
    "from datetime import date\n",
    "import pandas as pd\n",
    "import os\n",
    "from pathlib import Path"
   ]
  },
  {
   "cell_type": "code",
   "execution_count": 2,
   "id": "ffd552ed-1d0a-4ef1-acda-74f4fcf23589",
   "metadata": {},
   "outputs": [
    {
     "name": "stdout",
     "output_type": "stream",
     "text": [
      "Downloads folder: C:/Users/jared/Downloads\n"
     ]
    }
   ],
   "source": [
    "home = Path.home()\n",
    "downloads_path = home / \"Downloads\"\n",
    "downloads_path = downloads_path.as_posix()\n",
    "print(\"Downloads folder:\", downloads_path)"
   ]
  },
  {
   "cell_type": "code",
   "execution_count": null,
   "id": "a72deec0-66c6-4cbc-8e0f-65cd55d394e1",
   "metadata": {},
   "outputs": [],
   "source": []
  }
 ],
 "metadata": {
  "kernelspec": {
   "display_name": "Python 3 (ipykernel)",
   "language": "python",
   "name": "python3"
  },
  "language_info": {
   "codemirror_mode": {
    "name": "ipython",
    "version": 3
   },
   "file_extension": ".py",
   "mimetype": "text/x-python",
   "name": "python",
   "nbconvert_exporter": "python",
   "pygments_lexer": "ipython3",
   "version": "3.13.5"
  }
 },
 "nbformat": 4,
 "nbformat_minor": 5
}
