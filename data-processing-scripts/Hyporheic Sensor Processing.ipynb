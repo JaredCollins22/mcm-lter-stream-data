{
 "cells": [
  {
   "cell_type": "markdown",
   "id": "1e27cc3a-3e2f-4a0d-80bc-272fa979c99c",
   "metadata": {},
   "source": [
    "This section contains scripts for taking the outputs of the hyporheic sensor data and organizing it into a dataframe.\n",
    "\n",
    "The hyporheic data is a little bit more difficult to work with- unlike data from Aquarius, it has not been converted into a CSV and has some extra steps for converting into usable data. \n",
    "\n",
    "In order for this script to work properly, you will need to input necessary information about the files that you are hoping to publish:\n",
    "- Stream ID: Acceptable formats are B3, B5, C1, F1, F2, F3, F5, F6, F7, F8, F9, F10, H1, M1, M2, Onyx_LWRT, Onyx_Vanda\n",
    "- Season: Separate seasons into A and B data depending on what portion of the data you are working on; will only impact how datafile is saved\n",
    "- Date: The first day of the data file, written in \"YYYYMMDD\" format\n",
    "\n",
    "Edit the following cell with the information above:"
   ]
  }
 ],
 "metadata": {
  "kernelspec": {
   "display_name": "Python 3 (ipykernel)",
   "language": "python",
   "name": "python3"
  },
  "language_info": {
   "codemirror_mode": {
    "name": "ipython",
    "version": 3
   },
   "file_extension": ".py",
   "mimetype": "text/x-python",
   "name": "python",
   "nbconvert_exporter": "python",
   "pygments_lexer": "ipython3",
   "version": "3.13.5"
  }
 },
 "nbformat": 4,
 "nbformat_minor": 5
}
